{
 "cells": [
  {
   "cell_type": "code",
   "execution_count": null,
   "id": "2c9b38b0-711d-4cdb-a605-0f56b70428a6",
   "metadata": {},
   "outputs": [],
   "source": [
    "from envs.fx_triplet_env import FXTripletEnv, FXTripletConfig"
   ]
  },
  {
   "cell_type": "code",
   "execution_count": null,
   "id": "95769268-aab9-47cf-9c0f-4bdee7b35262",
   "metadata": {},
   "outputs": [],
   "source": []
  }
 ],
 "metadata": {
  "kernelspec": {
   "display_name": "Python (tf_env)",
   "language": "python",
   "name": "tf_env"
  },
  "language_info": {
   "codemirror_mode": {
    "name": "ipython",
    "version": 3
   },
   "file_extension": ".py",
   "mimetype": "text/x-python",
   "name": "python",
   "nbconvert_exporter": "python",
   "pygments_lexer": "ipython3",
   "version": "3.10.18"
  }
 },
 "nbformat": 4,
 "nbformat_minor": 5
}
